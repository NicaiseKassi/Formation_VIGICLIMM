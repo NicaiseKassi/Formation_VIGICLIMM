{
 "cells": [
  {
   "cell_type": "code",
   "execution_count": 5,
   "id": "6e22b2ec-157a-4ca0-b829-7ba2da51bf76",
   "metadata": {
    "tags": []
   },
   "outputs": [],
   "source": [
    "from vigiclimm_indicators.weather_indicators.daily_forecast import compute_and_write\n",
    "from historical import run_all_stations\n",
    "import typing as T\n",
    "import os\n",
    "import yaml\n",
    "from pathlib import Path\n",
    "from loguru import logger"
   ]
  },
  {
   "cell_type": "markdown",
   "id": "c93b9611-cc37-4115-8e91-173b0305805d",
   "metadata": {},
   "source": [
    "# 1) Générer indicateurs historiques"
   ]
  },
  {
   "cell_type": "code",
   "execution_count": 2,
   "id": "a8901be2-87bc-444a-9513-3638f370df99",
   "metadata": {
    "tags": []
   },
   "outputs": [
    {
     "name": "stdout",
     "output_type": "stream",
     "text": [
      "\u001b[32m2024-09-27 11:18:18\u001b[0m | \u001b[1mINFO    \u001b[0m | \u001b[1mWriting historical indicators for {'station': 'Boundiali', 'lon': -6.47, 'lat': 9.52}\u001b[0m\n",
      "\u001b[32m2024-09-27 11:18:18\u001b[0m | \u001b[1mINFO    \u001b[0m | \u001b[1mCSV file for station Boundiali not found. Using ERA5_LAND and TAMSAT data instead\u001b[0m\n",
      "\u001b[32m2024-09-27 11:18:18\u001b[0m | \u001b[1mINFO    \u001b[0m | \u001b[1mCSV file for station Boundiali not found. Using ERA5_LAND and TAMSAT data instead\u001b[0m\n",
      "\u001b[32m2024-09-27 11:18:18\u001b[0m | \u001b[1mINFO    \u001b[0m | \u001b[1mFilling missing dates with GFS pseudo observations\u001b[0m\n",
      "\u001b[32m2024-09-27 11:18:18\u001b[0m | \u001b[33m\u001b[1mWARNING \u001b[0m | \u001b[33m\u001b[1mNo TAMSAT data after 2024-09-25, more than two dates to fill\u001b[0m\n",
      "\u001b[32m2024-09-27 11:18:18\u001b[0m | \u001b[1mINFO    \u001b[0m | \u001b[1mWriting historical degree days for Boundiali\u001b[0m\n",
      "\u001b[32m2024-09-27 11:18:18\u001b[0m | \u001b[1mINFO    \u001b[0m | \u001b[1mWriting historical rainfall for Boundiali\u001b[0m\n",
      "\u001b[32m2024-09-27 11:18:18\u001b[0m | \u001b[1mINFO    \u001b[0m | \u001b[1mWriting historical wet_days for Boundiali\u001b[0m\n",
      "\u001b[32m2024-09-27 11:18:18\u001b[0m | \u001b[1mINFO    \u001b[0m | \u001b[1mWriting historical dry_days for Boundiali\u001b[0m\n",
      "\u001b[32m2024-09-27 11:18:18\u001b[0m | \u001b[1mINFO    \u001b[0m | \u001b[1mWriting historical indicators for {'station': 'Dianra', 'lon': -6.25, 'lat': 8.75}\u001b[0m\n",
      "\u001b[32m2024-09-27 11:18:18\u001b[0m | \u001b[1mINFO    \u001b[0m | \u001b[1mCSV file for station Dianra not found. Using ERA5_LAND and TAMSAT data instead\u001b[0m\n",
      "\u001b[32m2024-09-27 11:18:18\u001b[0m | \u001b[1mINFO    \u001b[0m | \u001b[1mCSV file for station Dianra not found. Using ERA5_LAND and TAMSAT data instead\u001b[0m\n",
      "\u001b[32m2024-09-27 11:18:18\u001b[0m | \u001b[1mINFO    \u001b[0m | \u001b[1mFilling missing dates with GFS pseudo observations\u001b[0m\n",
      "\u001b[32m2024-09-27 11:18:18\u001b[0m | \u001b[33m\u001b[1mWARNING \u001b[0m | \u001b[33m\u001b[1mNo TAMSAT data after 2024-09-25, more than two dates to fill\u001b[0m\n",
      "\u001b[32m2024-09-27 11:18:18\u001b[0m | \u001b[1mINFO    \u001b[0m | \u001b[1mWriting historical degree days for Dianra\u001b[0m\n",
      "\u001b[32m2024-09-27 11:18:18\u001b[0m | \u001b[1mINFO    \u001b[0m | \u001b[1mWriting historical rainfall for Dianra\u001b[0m\n",
      "\u001b[32m2024-09-27 11:18:18\u001b[0m | \u001b[1mINFO    \u001b[0m | \u001b[1mWriting historical wet_days for Dianra\u001b[0m\n",
      "\u001b[32m2024-09-27 11:18:18\u001b[0m | \u001b[1mINFO    \u001b[0m | \u001b[1mWriting historical dry_days for Dianra\u001b[0m\n",
      "\u001b[32m2024-09-27 11:18:18\u001b[0m | \u001b[1mINFO    \u001b[0m | \u001b[1mWriting historical indicators for {'station': 'Korhogo', 'lon': -5.62, 'lat': 9.42}\u001b[0m\n",
      "\u001b[32m2024-09-27 11:18:18\u001b[0m | \u001b[1mINFO    \u001b[0m | \u001b[1mCSV file for station Korhogo not found. Using ERA5_LAND and TAMSAT data instead\u001b[0m\n",
      "\u001b[32m2024-09-27 11:18:18\u001b[0m | \u001b[1mINFO    \u001b[0m | \u001b[1mCSV file for station Korhogo not found. Using ERA5_LAND and TAMSAT data instead\u001b[0m\n",
      "\u001b[32m2024-09-27 11:18:19\u001b[0m | \u001b[1mINFO    \u001b[0m | \u001b[1mFilling missing dates with GFS pseudo observations\u001b[0m\n",
      "\u001b[32m2024-09-27 11:18:19\u001b[0m | \u001b[33m\u001b[1mWARNING \u001b[0m | \u001b[33m\u001b[1mNo TAMSAT data after 2024-09-25, more than two dates to fill\u001b[0m\n",
      "\u001b[32m2024-09-27 11:18:19\u001b[0m | \u001b[1mINFO    \u001b[0m | \u001b[1mWriting historical degree days for Korhogo\u001b[0m\n",
      "\u001b[32m2024-09-27 11:18:19\u001b[0m | \u001b[1mINFO    \u001b[0m | \u001b[1mWriting historical rainfall for Korhogo\u001b[0m\n",
      "\u001b[32m2024-09-27 11:18:19\u001b[0m | \u001b[1mINFO    \u001b[0m | \u001b[1mWriting historical wet_days for Korhogo\u001b[0m\n",
      "\u001b[32m2024-09-27 11:18:19\u001b[0m | \u001b[1mINFO    \u001b[0m | \u001b[1mWriting historical dry_days for Korhogo\u001b[0m\n",
      "\u001b[32m2024-09-27 11:18:19\u001b[0m | \u001b[1mINFO    \u001b[0m | \u001b[1mWriting historical indicators for {'station': 'Mankono', 'lon': -6.18, 'lat': 8.05}\u001b[0m\n",
      "\u001b[32m2024-09-27 11:18:19\u001b[0m | \u001b[1mINFO    \u001b[0m | \u001b[1mCSV file for station Mankono not found. Using ERA5_LAND and TAMSAT data instead\u001b[0m\n",
      "\u001b[32m2024-09-27 11:18:19\u001b[0m | \u001b[1mINFO    \u001b[0m | \u001b[1mCSV file for station Mankono not found. Using ERA5_LAND and TAMSAT data instead\u001b[0m\n",
      "\u001b[32m2024-09-27 11:18:19\u001b[0m | \u001b[1mINFO    \u001b[0m | \u001b[1mFilling missing dates with GFS pseudo observations\u001b[0m\n",
      "\u001b[32m2024-09-27 11:18:19\u001b[0m | \u001b[33m\u001b[1mWARNING \u001b[0m | \u001b[33m\u001b[1mNo TAMSAT data after 2024-09-25, more than two dates to fill\u001b[0m\n",
      "\u001b[32m2024-09-27 11:18:19\u001b[0m | \u001b[1mINFO    \u001b[0m | \u001b[1mWriting historical degree days for Mankono\u001b[0m\n",
      "\u001b[32m2024-09-27 11:18:19\u001b[0m | \u001b[1mINFO    \u001b[0m | \u001b[1mWriting historical rainfall for Mankono\u001b[0m\n",
      "\u001b[32m2024-09-27 11:18:19\u001b[0m | \u001b[1mINFO    \u001b[0m | \u001b[1mWriting historical wet_days for Mankono\u001b[0m\n",
      "\u001b[32m2024-09-27 11:18:19\u001b[0m | \u001b[1mINFO    \u001b[0m | \u001b[1mWriting historical dry_days for Mankono\u001b[0m\n",
      "\u001b[32m2024-09-27 11:18:19\u001b[0m | \u001b[1mINFO    \u001b[0m | \u001b[1mWriting historical indicators for {'station': 'Mbengué', 'lon': -5.9, 'lat': 10.02}\u001b[0m\n",
      "\u001b[32m2024-09-27 11:18:19\u001b[0m | \u001b[1mINFO    \u001b[0m | \u001b[1mCSV file for station Mbengué not found. Using ERA5_LAND and TAMSAT data instead\u001b[0m\n",
      "\u001b[32m2024-09-27 11:18:19\u001b[0m | \u001b[1mINFO    \u001b[0m | \u001b[1mCSV file for station Mbengué not found. Using ERA5_LAND and TAMSAT data instead\u001b[0m\n",
      "\u001b[32m2024-09-27 11:18:19\u001b[0m | \u001b[1mINFO    \u001b[0m | \u001b[1mFilling missing dates with GFS pseudo observations\u001b[0m\n",
      "\u001b[32m2024-09-27 11:18:19\u001b[0m | \u001b[33m\u001b[1mWARNING \u001b[0m | \u001b[33m\u001b[1mNo TAMSAT data after 2024-09-25, more than two dates to fill\u001b[0m\n",
      "\u001b[32m2024-09-27 11:18:20\u001b[0m | \u001b[1mINFO    \u001b[0m | \u001b[1mWriting historical degree days for Mbengué\u001b[0m\n",
      "\u001b[32m2024-09-27 11:18:20\u001b[0m | \u001b[1mINFO    \u001b[0m | \u001b[1mWriting historical rainfall for Mbengué\u001b[0m\n",
      "\u001b[32m2024-09-27 11:18:20\u001b[0m | \u001b[1mINFO    \u001b[0m | \u001b[1mWriting historical wet_days for Mbengué\u001b[0m\n",
      "\u001b[32m2024-09-27 11:18:20\u001b[0m | \u001b[1mINFO    \u001b[0m | \u001b[1mWriting historical dry_days for Mbengué\u001b[0m\n",
      "\u001b[32m2024-09-27 11:18:20\u001b[0m | \u001b[1mINFO    \u001b[0m | \u001b[1mWriting historical indicators for {'station': 'Odienné', 'lon': -7.57, 'lat': 9.5}\u001b[0m\n",
      "\u001b[32m2024-09-27 11:18:20\u001b[0m | \u001b[1mINFO    \u001b[0m | \u001b[1mCSV file for station Odienné not found. Using ERA5_LAND and TAMSAT data instead\u001b[0m\n",
      "\u001b[32m2024-09-27 11:18:20\u001b[0m | \u001b[1mINFO    \u001b[0m | \u001b[1mCSV file for station Odienné not found. Using ERA5_LAND and TAMSAT data instead\u001b[0m\n",
      "\u001b[32m2024-09-27 11:18:20\u001b[0m | \u001b[1mINFO    \u001b[0m | \u001b[1mFilling missing dates with GFS pseudo observations\u001b[0m\n",
      "\u001b[32m2024-09-27 11:18:20\u001b[0m | \u001b[33m\u001b[1mWARNING \u001b[0m | \u001b[33m\u001b[1mNo TAMSAT data after 2024-09-25, more than two dates to fill\u001b[0m\n",
      "\u001b[32m2024-09-27 11:18:20\u001b[0m | \u001b[1mINFO    \u001b[0m | \u001b[1mWriting historical degree days for Odienné\u001b[0m\n",
      "\u001b[32m2024-09-27 11:18:20\u001b[0m | \u001b[1mINFO    \u001b[0m | \u001b[1mWriting historical rainfall for Odienné\u001b[0m\n",
      "\u001b[32m2024-09-27 11:18:20\u001b[0m | \u001b[1mINFO    \u001b[0m | \u001b[1mWriting historical wet_days for Odienné\u001b[0m\n",
      "\u001b[32m2024-09-27 11:18:20\u001b[0m | \u001b[1mINFO    \u001b[0m | \u001b[1mWriting historical dry_days for Odienné\u001b[0m\n",
      "\u001b[32m2024-09-27 11:18:20\u001b[0m | \u001b[1mINFO    \u001b[0m | \u001b[1mWriting historical indicators for {'station': 'Séguela', 'lon': -6.67, 'lat': 7.95}\u001b[0m\n",
      "\u001b[32m2024-09-27 11:18:20\u001b[0m | \u001b[1mINFO    \u001b[0m | \u001b[1mCSV file for station Séguela not found. Using ERA5_LAND and TAMSAT data instead\u001b[0m\n",
      "\u001b[32m2024-09-27 11:18:20\u001b[0m | \u001b[1mINFO    \u001b[0m | \u001b[1mCSV file for station Séguela not found. Using ERA5_LAND and TAMSAT data instead\u001b[0m\n",
      "\u001b[32m2024-09-27 11:18:20\u001b[0m | \u001b[1mINFO    \u001b[0m | \u001b[1mFilling missing dates with GFS pseudo observations\u001b[0m\n",
      "\u001b[32m2024-09-27 11:18:20\u001b[0m | \u001b[33m\u001b[1mWARNING \u001b[0m | \u001b[33m\u001b[1mNo TAMSAT data after 2024-09-25, more than two dates to fill\u001b[0m\n",
      "\u001b[32m2024-09-27 11:18:20\u001b[0m | \u001b[1mINFO    \u001b[0m | \u001b[1mWriting historical degree days for Séguela\u001b[0m\n",
      "\u001b[32m2024-09-27 11:18:20\u001b[0m | \u001b[1mINFO    \u001b[0m | \u001b[1mWriting historical rainfall for Séguela\u001b[0m\n",
      "\u001b[32m2024-09-27 11:18:20\u001b[0m | \u001b[1mINFO    \u001b[0m | \u001b[1mWriting historical wet_days for Séguela\u001b[0m\n",
      "\u001b[32m2024-09-27 11:18:20\u001b[0m | \u001b[1mINFO    \u001b[0m | \u001b[1mWriting historical dry_days for Séguela\u001b[0m\n",
      "\u001b[32m2024-09-27 11:18:20\u001b[0m | \u001b[1mINFO    \u001b[0m | \u001b[1mWriting historical indicators for {'station': 'Riziere1', 'lon': -8.6, 'lat': 5.6}\u001b[0m\n",
      "\u001b[32m2024-09-27 11:18:20\u001b[0m | \u001b[1mINFO    \u001b[0m | \u001b[1mCSV file for station Riziere1 not found. Using ERA5_LAND and TAMSAT data instead\u001b[0m\n",
      "\u001b[32m2024-09-27 11:18:20\u001b[0m | \u001b[1mINFO    \u001b[0m | \u001b[1mCSV file for station Riziere1 not found. Using ERA5_LAND and TAMSAT data instead\u001b[0m\n",
      "\u001b[32m2024-09-27 11:18:21\u001b[0m | \u001b[1mINFO    \u001b[0m | \u001b[1mFilling missing dates with GFS pseudo observations\u001b[0m\n",
      "\u001b[32m2024-09-27 11:18:21\u001b[0m | \u001b[33m\u001b[1mWARNING \u001b[0m | \u001b[33m\u001b[1mNo TAMSAT data after 2024-09-25, more than two dates to fill\u001b[0m\n",
      "\u001b[32m2024-09-27 11:18:21\u001b[0m | \u001b[1mINFO    \u001b[0m | \u001b[1mWriting historical degree days for Riziere1\u001b[0m\n",
      "\u001b[32m2024-09-27 11:18:21\u001b[0m | \u001b[1mINFO    \u001b[0m | \u001b[1mWriting historical rainfall for Riziere1\u001b[0m\n",
      "\u001b[32m2024-09-27 11:18:21\u001b[0m | \u001b[1mINFO    \u001b[0m | \u001b[1mWriting historical wet_days for Riziere1\u001b[0m\n",
      "\u001b[32m2024-09-27 11:18:21\u001b[0m | \u001b[1mINFO    \u001b[0m | \u001b[1mWriting historical dry_days for Riziere1\u001b[0m\n",
      "\u001b[32m2024-09-27 11:18:21\u001b[0m | \u001b[1mINFO    \u001b[0m | \u001b[1m\u001b[32mAll indicators written successfully\u001b[0m\u001b[1m\u001b[0m\n"
     ]
    }
   ],
   "source": [
    "run_all_stations(yml_path = 'station_list.yaml',\n",
    "                 obs_path = ' ',\n",
    "                 era5land_path = '/archive_cips/archive/climate/ERA5Land/all/raw/2024/ERA5Land_2024.nc',\n",
    "                 tamsat_path ='/archive_cips/archive/climate/TAMSAT/all/raw/2024/TAMSAT_2024.nc',\n",
    "                 gfs_path = '../../../cips_shared/tmp/prefect/vigiclimm_indicators/cd28d566-191e-4ea7-a870-1874aa5742fc_2024-09-26T11:30:00Z/gfs/gfs.nc',\n",
    "                 outdir ='result/')"
   ]
  },
  {
   "cell_type": "markdown",
   "id": "96856438-81f5-46cf-b173-993dfc6f0c1e",
   "metadata": {},
   "source": [
    "## 2) Essayons de générer les indicateurs \"forecast\""
   ]
  },
  {
   "cell_type": "code",
   "execution_count": 3,
   "id": "efa4e776-532d-4856-990e-624bd37b9f3a",
   "metadata": {},
   "outputs": [],
   "source": [
    "def run_forecast(yml_path: T.Union[str, os.PathLike],\n",
    "                     ds_path: T.Union[str, os.PathLike],\n",
    "                     outdir: T.Union[str, os.PathLike]):\n",
    "\n",
    "    with open(yml_path, 'r') as file:\n",
    "        station_list = yaml.safe_load(file)\n",
    "\n",
    "        for station in station_list:\n",
    "            logger.info(f'Writing forecast indicators for {station}')\n",
    "            compute_and_write(ds_path, station['lat'], station['lon'], station['station'], outdir)\n",
    "    logger.opt(ansi=True).info('<green>All indicators written successfully</green>')\n"
   ]
  },
  {
   "cell_type": "code",
   "execution_count": 6,
   "id": "f8c52a96-67ed-4d59-aff1-edd028673b97",
   "metadata": {},
   "outputs": [
    {
     "name": "stdout",
     "output_type": "stream",
     "text": [
      "\u001b[32m2024-09-27 11:18:58\u001b[0m | \u001b[1mINFO    \u001b[0m | \u001b[1mWriting forecast indicators for {'station': 'Boundiali', 'lon': -6.47, 'lat': 9.52}\u001b[0m\n",
      "\u001b[32m2024-09-27 11:18:58\u001b[0m | \u001b[1mINFO    \u001b[0m | \u001b[1mWriting tp parameter for Boundiali\u001b[0m\n",
      "\u001b[32m2024-09-27 11:18:58\u001b[0m | \u001b[1mINFO    \u001b[0m | \u001b[1mWriting tmax parameter for Boundiali\u001b[0m\n",
      "\u001b[32m2024-09-27 11:18:58\u001b[0m | \u001b[1mINFO    \u001b[0m | \u001b[1mWriting tmean parameter for Boundiali\u001b[0m\n",
      "\u001b[32m2024-09-27 11:18:58\u001b[0m | \u001b[1mINFO    \u001b[0m | \u001b[1mWriting tmin parameter for Boundiali\u001b[0m\n",
      "\u001b[32m2024-09-27 11:18:59\u001b[0m | \u001b[1mINFO    \u001b[0m | \u001b[1mWriting dswrf parameter for Boundiali\u001b[0m\n",
      "\u001b[32m2024-09-27 11:18:59\u001b[0m | \u001b[1mINFO    \u001b[0m | \u001b[1mWriting rhmean parameter for Boundiali\u001b[0m\n",
      "\u001b[32m2024-09-27 11:18:59\u001b[0m | \u001b[1mINFO    \u001b[0m | \u001b[1mWriting rhmax parameter for Boundiali\u001b[0m\n",
      "\u001b[32m2024-09-27 11:18:59\u001b[0m | \u001b[1mINFO    \u001b[0m | \u001b[1mWriting rhmin parameter for Boundiali\u001b[0m\n",
      "\u001b[32m2024-09-27 11:18:59\u001b[0m | \u001b[1mINFO    \u001b[0m | \u001b[1mWriting gust parameter for Boundiali\u001b[0m\n",
      "\u001b[32m2024-09-27 11:18:59\u001b[0m | \u001b[1mINFO    \u001b[0m | \u001b[1mWriting mcc parameter for Boundiali\u001b[0m\n",
      "\u001b[32m2024-09-27 11:18:59\u001b[0m | \u001b[1mINFO    \u001b[0m | \u001b[1mWriting lcc parameter for Boundiali\u001b[0m\n",
      "\u001b[32m2024-09-27 11:18:59\u001b[0m | \u001b[1mINFO    \u001b[0m | \u001b[1mWriting forecast indicators for {'station': 'Dianra', 'lon': -6.25, 'lat': 8.75}\u001b[0m\n",
      "\u001b[32m2024-09-27 11:18:59\u001b[0m | \u001b[1mINFO    \u001b[0m | \u001b[1mWriting tp parameter for Dianra\u001b[0m\n",
      "\u001b[32m2024-09-27 11:18:59\u001b[0m | \u001b[1mINFO    \u001b[0m | \u001b[1mWriting tmax parameter for Dianra\u001b[0m\n",
      "\u001b[32m2024-09-27 11:18:59\u001b[0m | \u001b[1mINFO    \u001b[0m | \u001b[1mWriting tmean parameter for Dianra\u001b[0m\n",
      "\u001b[32m2024-09-27 11:18:59\u001b[0m | \u001b[1mINFO    \u001b[0m | \u001b[1mWriting tmin parameter for Dianra\u001b[0m\n",
      "\u001b[32m2024-09-27 11:18:59\u001b[0m | \u001b[1mINFO    \u001b[0m | \u001b[1mWriting dswrf parameter for Dianra\u001b[0m\n",
      "\u001b[32m2024-09-27 11:18:59\u001b[0m | \u001b[1mINFO    \u001b[0m | \u001b[1mWriting rhmean parameter for Dianra\u001b[0m\n",
      "\u001b[32m2024-09-27 11:18:59\u001b[0m | \u001b[1mINFO    \u001b[0m | \u001b[1mWriting rhmax parameter for Dianra\u001b[0m\n",
      "\u001b[32m2024-09-27 11:19:00\u001b[0m | \u001b[1mINFO    \u001b[0m | \u001b[1mWriting rhmin parameter for Dianra\u001b[0m\n",
      "\u001b[32m2024-09-27 11:19:00\u001b[0m | \u001b[1mINFO    \u001b[0m | \u001b[1mWriting gust parameter for Dianra\u001b[0m\n",
      "\u001b[32m2024-09-27 11:19:00\u001b[0m | \u001b[1mINFO    \u001b[0m | \u001b[1mWriting mcc parameter for Dianra\u001b[0m\n",
      "\u001b[32m2024-09-27 11:19:00\u001b[0m | \u001b[1mINFO    \u001b[0m | \u001b[1mWriting lcc parameter for Dianra\u001b[0m\n",
      "\u001b[32m2024-09-27 11:19:00\u001b[0m | \u001b[1mINFO    \u001b[0m | \u001b[1mWriting forecast indicators for {'station': 'Korhogo', 'lon': -5.62, 'lat': 9.42}\u001b[0m\n",
      "\u001b[32m2024-09-27 11:19:00\u001b[0m | \u001b[1mINFO    \u001b[0m | \u001b[1mWriting tp parameter for Korhogo\u001b[0m\n",
      "\u001b[32m2024-09-27 11:19:00\u001b[0m | \u001b[1mINFO    \u001b[0m | \u001b[1mWriting tmax parameter for Korhogo\u001b[0m\n",
      "\u001b[32m2024-09-27 11:19:00\u001b[0m | \u001b[1mINFO    \u001b[0m | \u001b[1mWriting tmean parameter for Korhogo\u001b[0m\n",
      "\u001b[32m2024-09-27 11:19:00\u001b[0m | \u001b[1mINFO    \u001b[0m | \u001b[1mWriting tmin parameter for Korhogo\u001b[0m\n",
      "\u001b[32m2024-09-27 11:19:00\u001b[0m | \u001b[1mINFO    \u001b[0m | \u001b[1mWriting dswrf parameter for Korhogo\u001b[0m\n",
      "\u001b[32m2024-09-27 11:19:00\u001b[0m | \u001b[1mINFO    \u001b[0m | \u001b[1mWriting rhmean parameter for Korhogo\u001b[0m\n",
      "\u001b[32m2024-09-27 11:19:00\u001b[0m | \u001b[1mINFO    \u001b[0m | \u001b[1mWriting rhmax parameter for Korhogo\u001b[0m\n",
      "\u001b[32m2024-09-27 11:19:00\u001b[0m | \u001b[1mINFO    \u001b[0m | \u001b[1mWriting rhmin parameter for Korhogo\u001b[0m\n",
      "\u001b[32m2024-09-27 11:19:00\u001b[0m | \u001b[1mINFO    \u001b[0m | \u001b[1mWriting gust parameter for Korhogo\u001b[0m\n",
      "\u001b[32m2024-09-27 11:19:01\u001b[0m | \u001b[1mINFO    \u001b[0m | \u001b[1mWriting mcc parameter for Korhogo\u001b[0m\n",
      "\u001b[32m2024-09-27 11:19:01\u001b[0m | \u001b[1mINFO    \u001b[0m | \u001b[1mWriting lcc parameter for Korhogo\u001b[0m\n",
      "\u001b[32m2024-09-27 11:19:01\u001b[0m | \u001b[1mINFO    \u001b[0m | \u001b[1mWriting forecast indicators for {'station': 'Mankono', 'lon': -6.18, 'lat': 8.05}\u001b[0m\n",
      "\u001b[32m2024-09-27 11:19:01\u001b[0m | \u001b[1mINFO    \u001b[0m | \u001b[1mWriting tp parameter for Mankono\u001b[0m\n",
      "\u001b[32m2024-09-27 11:19:01\u001b[0m | \u001b[1mINFO    \u001b[0m | \u001b[1mWriting tmax parameter for Mankono\u001b[0m\n",
      "\u001b[32m2024-09-27 11:19:01\u001b[0m | \u001b[1mINFO    \u001b[0m | \u001b[1mWriting tmean parameter for Mankono\u001b[0m\n",
      "\u001b[32m2024-09-27 11:19:01\u001b[0m | \u001b[1mINFO    \u001b[0m | \u001b[1mWriting tmin parameter for Mankono\u001b[0m\n",
      "\u001b[32m2024-09-27 11:19:01\u001b[0m | \u001b[1mINFO    \u001b[0m | \u001b[1mWriting dswrf parameter for Mankono\u001b[0m\n",
      "\u001b[32m2024-09-27 11:19:01\u001b[0m | \u001b[1mINFO    \u001b[0m | \u001b[1mWriting rhmean parameter for Mankono\u001b[0m\n",
      "\u001b[32m2024-09-27 11:19:01\u001b[0m | \u001b[1mINFO    \u001b[0m | \u001b[1mWriting rhmax parameter for Mankono\u001b[0m\n",
      "\u001b[32m2024-09-27 11:19:01\u001b[0m | \u001b[1mINFO    \u001b[0m | \u001b[1mWriting rhmin parameter for Mankono\u001b[0m\n",
      "\u001b[32m2024-09-27 11:19:01\u001b[0m | \u001b[1mINFO    \u001b[0m | \u001b[1mWriting gust parameter for Mankono\u001b[0m\n",
      "\u001b[32m2024-09-27 11:19:01\u001b[0m | \u001b[1mINFO    \u001b[0m | \u001b[1mWriting mcc parameter for Mankono\u001b[0m\n",
      "\u001b[32m2024-09-27 11:19:01\u001b[0m | \u001b[1mINFO    \u001b[0m | \u001b[1mWriting lcc parameter for Mankono\u001b[0m\n",
      "\u001b[32m2024-09-27 11:19:02\u001b[0m | \u001b[1mINFO    \u001b[0m | \u001b[1mWriting forecast indicators for {'station': 'Mbengué', 'lon': -5.9, 'lat': 10.02}\u001b[0m\n",
      "\u001b[32m2024-09-27 11:19:02\u001b[0m | \u001b[1mINFO    \u001b[0m | \u001b[1mWriting tp parameter for Mbengué\u001b[0m\n",
      "\u001b[32m2024-09-27 11:19:02\u001b[0m | \u001b[1mINFO    \u001b[0m | \u001b[1mWriting tmax parameter for Mbengué\u001b[0m\n",
      "\u001b[32m2024-09-27 11:19:02\u001b[0m | \u001b[1mINFO    \u001b[0m | \u001b[1mWriting tmean parameter for Mbengué\u001b[0m\n",
      "\u001b[32m2024-09-27 11:19:02\u001b[0m | \u001b[1mINFO    \u001b[0m | \u001b[1mWriting tmin parameter for Mbengué\u001b[0m\n",
      "\u001b[32m2024-09-27 11:19:02\u001b[0m | \u001b[1mINFO    \u001b[0m | \u001b[1mWriting dswrf parameter for Mbengué\u001b[0m\n",
      "\u001b[32m2024-09-27 11:19:02\u001b[0m | \u001b[1mINFO    \u001b[0m | \u001b[1mWriting rhmean parameter for Mbengué\u001b[0m\n",
      "\u001b[32m2024-09-27 11:19:02\u001b[0m | \u001b[1mINFO    \u001b[0m | \u001b[1mWriting rhmax parameter for Mbengué\u001b[0m\n",
      "\u001b[32m2024-09-27 11:19:02\u001b[0m | \u001b[1mINFO    \u001b[0m | \u001b[1mWriting rhmin parameter for Mbengué\u001b[0m\n",
      "\u001b[32m2024-09-27 11:19:02\u001b[0m | \u001b[1mINFO    \u001b[0m | \u001b[1mWriting gust parameter for Mbengué\u001b[0m\n",
      "\u001b[32m2024-09-27 11:19:02\u001b[0m | \u001b[1mINFO    \u001b[0m | \u001b[1mWriting mcc parameter for Mbengué\u001b[0m\n",
      "\u001b[32m2024-09-27 11:19:02\u001b[0m | \u001b[1mINFO    \u001b[0m | \u001b[1mWriting lcc parameter for Mbengué\u001b[0m\n",
      "\u001b[32m2024-09-27 11:19:03\u001b[0m | \u001b[1mINFO    \u001b[0m | \u001b[1mWriting forecast indicators for {'station': 'Odienné', 'lon': -7.57, 'lat': 9.5}\u001b[0m\n",
      "\u001b[32m2024-09-27 11:19:03\u001b[0m | \u001b[1mINFO    \u001b[0m | \u001b[1mWriting tp parameter for Odienné\u001b[0m\n",
      "\u001b[32m2024-09-27 11:19:03\u001b[0m | \u001b[1mINFO    \u001b[0m | \u001b[1mWriting tmax parameter for Odienné\u001b[0m\n",
      "\u001b[32m2024-09-27 11:19:03\u001b[0m | \u001b[1mINFO    \u001b[0m | \u001b[1mWriting tmean parameter for Odienné\u001b[0m\n",
      "\u001b[32m2024-09-27 11:19:03\u001b[0m | \u001b[1mINFO    \u001b[0m | \u001b[1mWriting tmin parameter for Odienné\u001b[0m\n",
      "\u001b[32m2024-09-27 11:19:03\u001b[0m | \u001b[1mINFO    \u001b[0m | \u001b[1mWriting dswrf parameter for Odienné\u001b[0m\n",
      "\u001b[32m2024-09-27 11:19:03\u001b[0m | \u001b[1mINFO    \u001b[0m | \u001b[1mWriting rhmean parameter for Odienné\u001b[0m\n",
      "\u001b[32m2024-09-27 11:19:03\u001b[0m | \u001b[1mINFO    \u001b[0m | \u001b[1mWriting rhmax parameter for Odienné\u001b[0m\n",
      "\u001b[32m2024-09-27 11:19:03\u001b[0m | \u001b[1mINFO    \u001b[0m | \u001b[1mWriting rhmin parameter for Odienné\u001b[0m\n",
      "\u001b[32m2024-09-27 11:19:03\u001b[0m | \u001b[1mINFO    \u001b[0m | \u001b[1mWriting gust parameter for Odienné\u001b[0m\n",
      "\u001b[32m2024-09-27 11:19:03\u001b[0m | \u001b[1mINFO    \u001b[0m | \u001b[1mWriting mcc parameter for Odienné\u001b[0m\n",
      "\u001b[32m2024-09-27 11:19:03\u001b[0m | \u001b[1mINFO    \u001b[0m | \u001b[1mWriting lcc parameter for Odienné\u001b[0m\n",
      "\u001b[32m2024-09-27 11:19:04\u001b[0m | \u001b[1mINFO    \u001b[0m | \u001b[1mWriting forecast indicators for {'station': 'Séguela', 'lon': -6.67, 'lat': 7.95}\u001b[0m\n",
      "\u001b[32m2024-09-27 11:19:04\u001b[0m | \u001b[1mINFO    \u001b[0m | \u001b[1mWriting tp parameter for Séguela\u001b[0m\n",
      "\u001b[32m2024-09-27 11:19:04\u001b[0m | \u001b[1mINFO    \u001b[0m | \u001b[1mWriting tmax parameter for Séguela\u001b[0m\n",
      "\u001b[32m2024-09-27 11:19:04\u001b[0m | \u001b[1mINFO    \u001b[0m | \u001b[1mWriting tmean parameter for Séguela\u001b[0m\n",
      "\u001b[32m2024-09-27 11:19:04\u001b[0m | \u001b[1mINFO    \u001b[0m | \u001b[1mWriting tmin parameter for Séguela\u001b[0m\n",
      "\u001b[32m2024-09-27 11:19:04\u001b[0m | \u001b[1mINFO    \u001b[0m | \u001b[1mWriting dswrf parameter for Séguela\u001b[0m\n",
      "\u001b[32m2024-09-27 11:19:04\u001b[0m | \u001b[1mINFO    \u001b[0m | \u001b[1mWriting rhmean parameter for Séguela\u001b[0m\n",
      "\u001b[32m2024-09-27 11:19:04\u001b[0m | \u001b[1mINFO    \u001b[0m | \u001b[1mWriting rhmax parameter for Séguela\u001b[0m\n",
      "\u001b[32m2024-09-27 11:19:04\u001b[0m | \u001b[1mINFO    \u001b[0m | \u001b[1mWriting rhmin parameter for Séguela\u001b[0m\n",
      "\u001b[32m2024-09-27 11:19:04\u001b[0m | \u001b[1mINFO    \u001b[0m | \u001b[1mWriting gust parameter for Séguela\u001b[0m\n",
      "\u001b[32m2024-09-27 11:19:04\u001b[0m | \u001b[1mINFO    \u001b[0m | \u001b[1mWriting mcc parameter for Séguela\u001b[0m\n",
      "\u001b[32m2024-09-27 11:19:04\u001b[0m | \u001b[1mINFO    \u001b[0m | \u001b[1mWriting lcc parameter for Séguela\u001b[0m\n",
      "\u001b[32m2024-09-27 11:19:04\u001b[0m | \u001b[1mINFO    \u001b[0m | \u001b[1mWriting forecast indicators for {'station': 'Riziere1', 'lon': -8.6, 'lat': 5.6}\u001b[0m\n",
      "\u001b[32m2024-09-27 11:19:04\u001b[0m | \u001b[1mINFO    \u001b[0m | \u001b[1mWriting tp parameter for Riziere1\u001b[0m\n",
      "\u001b[32m2024-09-27 11:19:05\u001b[0m | \u001b[1mINFO    \u001b[0m | \u001b[1mWriting tmax parameter for Riziere1\u001b[0m\n",
      "\u001b[32m2024-09-27 11:19:05\u001b[0m | \u001b[1mINFO    \u001b[0m | \u001b[1mWriting tmean parameter for Riziere1\u001b[0m\n",
      "\u001b[32m2024-09-27 11:19:05\u001b[0m | \u001b[1mINFO    \u001b[0m | \u001b[1mWriting tmin parameter for Riziere1\u001b[0m\n",
      "\u001b[32m2024-09-27 11:19:05\u001b[0m | \u001b[1mINFO    \u001b[0m | \u001b[1mWriting dswrf parameter for Riziere1\u001b[0m\n",
      "\u001b[32m2024-09-27 11:19:05\u001b[0m | \u001b[1mINFO    \u001b[0m | \u001b[1mWriting rhmean parameter for Riziere1\u001b[0m\n",
      "\u001b[32m2024-09-27 11:19:05\u001b[0m | \u001b[1mINFO    \u001b[0m | \u001b[1mWriting rhmax parameter for Riziere1\u001b[0m\n",
      "\u001b[32m2024-09-27 11:19:05\u001b[0m | \u001b[1mINFO    \u001b[0m | \u001b[1mWriting rhmin parameter for Riziere1\u001b[0m\n",
      "\u001b[32m2024-09-27 11:19:05\u001b[0m | \u001b[1mINFO    \u001b[0m | \u001b[1mWriting gust parameter for Riziere1\u001b[0m\n",
      "\u001b[32m2024-09-27 11:19:05\u001b[0m | \u001b[1mINFO    \u001b[0m | \u001b[1mWriting mcc parameter for Riziere1\u001b[0m\n",
      "\u001b[32m2024-09-27 11:19:05\u001b[0m | \u001b[1mINFO    \u001b[0m | \u001b[1mWriting lcc parameter for Riziere1\u001b[0m\n",
      "\u001b[32m2024-09-27 11:19:05\u001b[0m | \u001b[1mINFO    \u001b[0m | \u001b[1m\u001b[32mAll indicators written successfully\u001b[0m\u001b[1m\u001b[0m\n"
     ]
    },
    {
     "name": "stderr",
     "output_type": "stream",
     "text": [
      "/tmp/ipykernel_42367/2283906986.py:11: DeprecationWarning: The 'ansi' parameter is deprecated, please use 'colors' instead\n",
      "  logger.opt(ansi=True).info('<green>All indicators written successfully</green>')\n"
     ]
    }
   ],
   "source": [
    "run_forecast(yml_path = 'station_list.yaml',\n",
    "            ds_path = '../../../cips_shared/tmp/prefect/vigiclimm_indicators/cd28d566-191e-4ea7-a870-1874aa5742fc_2024-09-26T11:30:00Z/gfs/gfs.nc',\n",
    "            outdir ='result/')"
   ]
  },
  {
   "cell_type": "markdown",
   "id": "8d47a59a-c999-4ab4-9149-8d4cd30af7e4",
   "metadata": {},
   "source": [
    "# Dernière étape, générer les indicateurs agros (relancez votre notebook/kernel)"
   ]
  },
  {
   "cell_type": "code",
   "execution_count": 25,
   "id": "56b3f012-396c-4503-bf6b-cdc3df985827",
   "metadata": {},
   "outputs": [
    {
     "ename": "NameError",
     "evalue": "name 'generate_agro_indicators' is not defined",
     "output_type": "error",
     "traceback": [
      "\u001b[0;31m---------------------------------------------------------------------------\u001b[0m",
      "\u001b[0;31mNameError\u001b[0m                                 Traceback (most recent call last)",
      "Cell \u001b[0;32mIn[25], line 1\u001b[0m\n\u001b[0;32m----> 1\u001b[0m generate_agro_indicators(yml_path \u001b[38;5;241m=\u001b[39m \u001b[38;5;124m'\u001b[39m\u001b[38;5;124mstation_list.yaml\u001b[39m\u001b[38;5;124m'\u001b[39m,\n\u001b[1;32m      2\u001b[0m             input_path \u001b[38;5;241m=\u001b[39m \u001b[38;5;124m'\u001b[39m\u001b[38;5;124mresult/\u001b[39m\u001b[38;5;124m'\u001b[39m,\n\u001b[1;32m      3\u001b[0m             outdir \u001b[38;5;241m=\u001b[39m\u001b[38;5;124m'\u001b[39m\u001b[38;5;124mresult/\u001b[39m\u001b[38;5;124m'\u001b[39m)\n",
      "\u001b[0;31mNameError\u001b[0m: name 'generate_agro_indicators' is not defined"
     ]
    }
   ],
   "source": [
    "generate_agro_indicators(yml_path = 'station_list.yaml',\n",
    "            input_path = 'result/',\n",
    "            outdir ='result/')"
   ]
  },
  {
   "cell_type": "code",
   "execution_count": null,
   "id": "b49b188e-6bd1-419d-bdf0-75893c2b6d72",
   "metadata": {},
   "outputs": [],
   "source": []
  }
 ],
 "metadata": {
  "kernelspec": {
   "display_name": "Python [conda env:.conda-test_formation]",
   "language": "python",
   "name": "conda-env-.conda-test_formation-py"
  },
  "language_info": {
   "codemirror_mode": {
    "name": "ipython",
    "version": 3
   },
   "file_extension": ".py",
   "mimetype": "text/x-python",
   "name": "python",
   "nbconvert_exporter": "python",
   "pygments_lexer": "ipython3",
   "version": "3.12.5"
  }
 },
 "nbformat": 4,
 "nbformat_minor": 5
}
