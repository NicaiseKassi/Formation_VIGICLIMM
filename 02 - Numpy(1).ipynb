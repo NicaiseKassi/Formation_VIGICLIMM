{
 "cells": [
  {
   "cell_type": "markdown",
   "metadata": {},
   "source": [
    "Dans ce notebook, nous allons couvrir les bases de Numpy. \n",
    "\n",
    "NumPy est une bibliothèque Python utilisée pour le calcul scientifique et l'analyse de données. Elle prend en charge les tableaux multidimensionnels et les matrices, ainsi qu'une large collection de fonctions mathématiques permettant d'opérer sur ces tableaux. NumPy est largement utilisé dans la communauté scientifique, en particulier dans des domaines tels que la physique, l'ingénierie et la science des données.\n",
    "\n",
    "Nous couvrirons :\n",
    "* Ndarray\n",
    "* Principaux attributs et méthodes\n",
    "* L'indexation\n",
    "* Méthodes de la classe Ndarray\n",
    "* Exemples de statistiques et d'algèbre linéaire\n",
    "\n",
    "Pour aller plus loin, vous pouvez consulter la documentation officielle.\n",
    "* https://numpy.org/doc/stable/\n"
   ]
  },
  {
   "cell_type": "markdown",
   "metadata": {
    "id": "kPpCo82Kj-HT"
   },
   "source": [
    "# 1. Numpy : ndarray"
   ]
  },
  {
   "cell_type": "code",
   "execution_count": 1,
   "metadata": {
    "id": "1pmhE3K-j8uk"
   },
   "outputs": [],
   "source": [
    "import numpy as np"
   ]
  },
  {
   "cell_type": "markdown",
   "metadata": {
    "id": "ueEc8h86slN-"
   },
   "source": [
    "## 1.1 **ndarray** array generator\n",
    "- default generator: **ndarray()**\n",
    "- 1D generator: **np.linspace** and **np.arange()**\n",
    "- ND generator: **np.zeros()**, **np.ones()**, **np.random.randn()** (these are the most useful)"
   ]
  },
  {
   "cell_type": "code",
   "execution_count": 2,
   "metadata": {
    "id": "FAALhYpise2W"
   },
   "outputs": [],
   "source": [
    "A = np.array([1, 2, 3]) # default generator, which converts lists (or other objects) into an ndarray array\n",
    "A = np.zeros((2, 3)) # array of 0s with dimensions 2x3\n",
    "B = np.ones((2, 3)) # array of 1s with dimensions 2x3\n",
    "C = np.random.randn(2, 3) # random array (normal distribution) with dimensions 2x3\n",
    "D = np.random.rand(2, 3) # random array (uniform distribution)\n",
    " \n",
    "E = np.random.randint(0, 10, [2, 3]) # array of random integers from 0 to 10 and of dimension 2x3"
   ]
  },
  {
   "cell_type": "code",
   "execution_count": 3,
   "metadata": {
    "id": "qlCQKYHvsij7"
   },
   "outputs": [],
   "source": [
    "A = np.ones((2, 3), dtype=np.float16) # define the type and the place to occupy on the memory\n",
    "B = np.eye(4, dtype=np.bool) # create identity matrix and convert elements to type bool."
   ]
  },
  {
   "cell_type": "code",
   "execution_count": 4,
   "metadata": {
    "id": "2_wG1YYM3cKL"
   },
   "outputs": [],
   "source": [
    "A = np.linspace(1,10, 10)\n",
    "B = np.arange(0, 10, 10)"
   ]
  },
  {
   "cell_type": "markdown",
   "metadata": {
    "id": "O0gPhrkatFCq"
   },
   "source": [
    "## 1.2 Attributs importants\n",
    "- size\n",
    "- shape"
   ]
  },
  {
   "cell_type": "code",
   "execution_count": 5,
   "metadata": {
    "colab": {
     "base_uri": "https://localhost:8080/",
     "height": 85
    },
    "id": "49om7hC7s7PY",
    "outputId": "11656a58-5b8c-4a61-df58-8092d792bbd7"
   },
   "outputs": [
    {
     "name": "stdout",
     "output_type": "stream",
     "text": [
      "6\n",
      "(2, 3)\n",
      "<class 'tuple'>\n",
      "2\n"
     ]
    }
   ],
   "source": [
    "A = np.zeros((2, 3)) # creating an array of shape (2, 3)\n",
    " \n",
    "print(A.size) # the number of elements in array A\n",
    "print(A.shape) # the dimensions of array A (as a tuple)\n",
    " \n",
    "print(type(A.shape)) # here is the proof that the shape is a tuple\n",
    " \n",
    "print(A.shape[0]) # the number of elements in the first dimension of A"
   ]
  },
  {
   "cell_type": "markdown",
   "metadata": {
    "id": "LJxuYLLptW4U"
   },
   "source": [
    "## 1.3 Méthodes importantes\n",
    "- **reshape()**: to resize an array\n",
    "- **ravel()**: to flatten an array (make it only one dimension)\n",
    "- **squeeze()**: when a dimension is equal to 1, this dimension disappears\n",
    "- **concatenate()**: assembles 2 arrays together along one axis (also exists in hstack and vstack)"
   ]
  },
  {
   "cell_type": "code",
   "execution_count": null,
   "metadata": {
    "colab": {
     "base_uri": "https://localhost:8080/",
     "height": 68
    },
    "id": "nzys1OiQtTS1",
    "outputId": "894bea04-06a6-4e23-e335-abe43764c7e0"
   },
   "outputs": [],
   "source": [
    "A = np.zeros((2, 3)) # creating an array of shape (2, 3)\n",
    " \n",
    "A = A.reshape((3, 2)) # resize array A (3 rows, 2 columns)\n",
    "A.ravel() # Flattens array A (one dimension only)\n",
    "A.squeeze() # eliminates \"1\" dimensions from A."
   ]
  },
  {
   "cell_type": "code",
   "execution_count": null,
   "metadata": {
    "colab": {
     "base_uri": "https://localhost:8080/",
     "height": 85
    },
    "id": "1sBGP0vxtlNT",
    "outputId": "7ad91082-e579-4084-c8a8-391f3e25d505"
   },
   "outputs": [],
   "source": [
    "A = np.zeros((2, 3)) # creating an array of shape (2, 3)\n",
    "B = np.ones((2, 3)) # creating an array of shape (2, 3)\n",
    "\n",
    "np.concatenate((A, B), axis=0) # axis 0: equivalent of np.vstack((A, B))"
   ]
  },
  {
   "cell_type": "code",
   "execution_count": null,
   "metadata": {
    "colab": {
     "base_uri": "https://localhost:8080/",
     "height": 51
    },
    "id": "Ped85c9YuN5t",
    "outputId": "3b5936d1-b344-40ef-950a-ca44e0c8c09a"
   },
   "outputs": [],
   "source": [
    "np.concatenate((A, B), axis=1) # axe 1 : equivalent of np.hstack((A, B))"
   ]
  },
  {
   "cell_type": "markdown",
   "metadata": {},
   "source": [
    "---"
   ]
  },
  {
   "cell_type": "markdown",
   "metadata": {},
   "source": [
    "# 2. Numpy : Slicing et Indexing"
   ]
  },
  {
   "cell_type": "markdown",
   "metadata": {},
   "source": [
    "## 2.1 Indexing et Slicing\n",
    "The operation is the same as for the lists"
   ]
  },
  {
   "cell_type": "code",
   "execution_count": null,
   "metadata": {},
   "outputs": [],
   "source": [
    "A = np.array([[1, 2, 3], [4, 5, 6]])\n",
    "print(A)"
   ]
  },
  {
   "cell_type": "code",
   "execution_count": null,
   "metadata": {},
   "outputs": [],
   "source": [
    "# To access row 0, column 1\n",
    "A[0, 1] "
   ]
  },
  {
   "cell_type": "code",
   "execution_count": null,
   "metadata": {},
   "outputs": [],
   "source": [
    "# To select the blocks of the line (0-1) column (0-1)\n",
    "A[0:2, 0:2]"
   ]
  },
  {
   "cell_type": "code",
   "execution_count": null,
   "metadata": {},
   "outputs": [],
   "source": [
    "A[0:2, 0:2] = 10\n",
    "print(A)"
   ]
  },
  {
   "cell_type": "markdown",
   "metadata": {},
   "source": [
    "## 2.2 Boolean Indexing"
   ]
  },
  {
   "cell_type": "code",
   "execution_count": null,
   "metadata": {},
   "outputs": [],
   "source": [
    "A = np.array([[1, 2, 3], [4, 5, 6]])\n",
    " \n",
    "print(A<5) # boolean mask\n",
    " \n",
    "print(A[A < 5]) # subset filtered by boolean mask\n",
    " \n",
    "A[A<5] = 4 # converts selected values.\n",
    "print(A)"
   ]
  },
  {
   "cell_type": "markdown",
   "metadata": {},
   "source": [
    "---"
   ]
  },
  {
   "cell_type": "markdown",
   "metadata": {},
   "source": [
    "# 3. Numpy : Mathematics"
   ]
  },
  {
   "cell_type": "markdown",
   "metadata": {},
   "source": [
    "## 3.1 Basic (most useful) methods of the ndarray class"
   ]
  },
  {
   "cell_type": "code",
   "execution_count": null,
   "metadata": {},
   "outputs": [],
   "source": [
    "A = np.array([[1, 2, 3], [4, 5, 6]])\n",
    "\n",
    "print(A.sum()) # sum all array elements\n",
    "print(A.sum(axis=0)) # perform the sum of the columns (sum over elements of the rows)\n",
    "print(A.sum(axis=1)) # perform row sum (sum over column elements)\n",
    "print(A.cumsum(axis=0)) # perform cumulative sum\n",
    " \n",
    "print(A.prod()) # perform the product\n",
    "print(A.cumprod()) # perform the cumulative product\n",
    " \n",
    "print(A.min()) # find the minimum of the array\n",
    "print(A.max()) # find the maximum of the array\n",
    " \n",
    "print(A.mean()) # calculate the average\n",
    "print(A.std()) # calculate the standard deviation,\n",
    "print(A.var()) # calculate the variance"
   ]
  },
  {
   "cell_type": "markdown",
   "metadata": {},
   "source": [
    "An important method: the method **argsort()**"
   ]
  },
  {
   "cell_type": "code",
   "execution_count": null,
   "metadata": {},
   "outputs": [],
   "source": [
    "A = np.random.randint(0, 10, [5, 5]) # random array\n",
    "print(A)"
   ]
  },
  {
   "cell_type": "code",
   "execution_count": null,
   "metadata": {},
   "outputs": [],
   "source": [
    "print(A.argsort()) # returns the indexes to sort each row of the array"
   ]
  },
  {
   "cell_type": "code",
   "execution_count": null,
   "metadata": {},
   "outputs": [],
   "source": [
    "print(A[:,0].argsort()) # returns indexes to sort column 0 of A"
   ]
  },
  {
   "cell_type": "code",
   "execution_count": null,
   "metadata": {},
   "outputs": [],
   "source": [
    "A = A[A[:,0].argsort(), :] # sorts the columns of the array according to column 0.\n",
    "A"
   ]
  },
  {
   "cell_type": "markdown",
   "metadata": {},
   "source": [
    "## 3.2 Numpy Statistics\n",
    "Pearson Correlation:"
   ]
  },
  {
   "cell_type": "code",
   "execution_count": null,
   "metadata": {},
   "outputs": [],
   "source": [
    "B = np.random.randn(3, 3) # random numbers 3x3\n",
    "\n",
    "# return correlation matrix of B\n",
    "print(np.corrcoef(B))"
   ]
  },
  {
   "cell_type": "code",
   "execution_count": null,
   "metadata": {},
   "outputs": [],
   "source": [
    "# returns the correlation matrix between rows 0 and 1 of B\n",
    "print(np.corrcoef(B[:,0], B[:, 1]))"
   ]
  },
  {
   "cell_type": "markdown",
   "metadata": {},
   "source": [
    "np.unique() :"
   ]
  },
  {
   "cell_type": "code",
   "execution_count": null,
   "metadata": {},
   "outputs": [],
   "source": [
    "np.random.seed(0)\n",
    "A = np.random.randint(0, 10, [5,5])\n",
    "A"
   ]
  },
  {
   "cell_type": "code",
   "execution_count": null,
   "metadata": {},
   "outputs": [],
   "source": [
    "np.unique(A)"
   ]
  },
  {
   "cell_type": "code",
   "execution_count": null,
   "metadata": {},
   "outputs": [],
   "source": [
    "values, counts = np.unique(A, return_counts=True)\n",
    "\n",
    "for i, j in zip(values[counts.argsort()], counts[counts.argsort()]):\n",
    "    print(f'value {i} appears {j}')"
   ]
  },
  {
   "cell_type": "markdown",
   "metadata": {},
   "source": [
    "Statistical calculations in the presence of missing data (NaN)"
   ]
  },
  {
   "cell_type": "code",
   "execution_count": null,
   "metadata": {},
   "outputs": [],
   "source": [
    "A = np.random.randn(5, 5)\n",
    "A[0, 2] = np.nan # insert a NaN into the matrix A\n",
    " \n",
    "print('ratio NaN/size:', (np.isnan(A).sum()/A.size)) # computes the proportion of NaN in A\n",
    " \n",
    "print('average without NaN:', np.nanmean(A)) # compute the average of A ignoring the NaN"
   ]
  },
  {
   "cell_type": "markdown",
   "metadata": {},
   "source": [
    "## 3.3 Linear Algebra"
   ]
  },
  {
   "cell_type": "code",
   "execution_count": null,
   "metadata": {},
   "outputs": [],
   "source": [
    "A = np.ones((2,3))\n",
    "B = np.ones((3,3))\n",
    "\n",
    "print(A.T) # transpose of matrix A (this is an attribute of ndarray)"
   ]
  },
  {
   "cell_type": "code",
   "execution_count": null,
   "metadata": {},
   "outputs": [],
   "source": [
    "print(A.dot(B)) # matrix product A.B"
   ]
  },
  {
   "cell_type": "code",
   "execution_count": null,
   "metadata": {},
   "outputs": [],
   "source": [
    "A = np.random.randint(0, 10, [3, 3])\n",
    " \n",
    "print('det=', np.linalg.det(A)) # compute the determinant of A\n",
    "print('inv A:\\n', np.linalg.inv(A)) # compute the inverse of A"
   ]
  },
  {
   "cell_type": "code",
   "execution_count": null,
   "metadata": {},
   "outputs": [],
   "source": [
    "val, vec = np.linalg.eig(A)\n",
    "print('eigen value:\\n', val) # eigen value\n",
    "print('eigen vector:\\n', vec) # eigen vector"
   ]
  }
 ],
 "metadata": {
  "colab": {
   "authorship_tag": "ABX9TyOBDpBixGknnBtNmIz7Zvhf",
   "include_colab_link": true,
   "name": "Untitled7.ipynb",
   "provenance": []
  },
  "kernelspec": {
   "display_name": "Python 3 (ipykernel)",
   "language": "python",
   "name": "python3"
  },
  "language_info": {
   "codemirror_mode": {
    "name": "ipython",
    "version": 3
   },
   "file_extension": ".py",
   "mimetype": "text/x-python",
   "name": "python",
   "nbconvert_exporter": "python",
   "pygments_lexer": "ipython3",
   "version": "3.10.4"
  }
 },
 "nbformat": 4,
 "nbformat_minor": 4
}
