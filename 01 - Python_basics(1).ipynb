{
 "cells": [
  {
   "cell_type": "markdown",
   "id": "af96e90e-3015-4e33-bb21-3bb8a0ef4628",
   "metadata": {
    "tags": []
   },
   "source": [
    "# Bases de Python\n",
    "\n",
    "Présentation des bases en Python et du fonctionnement d'un Notebook.\n",
    "\n",
    "Au programme :\n",
    "* Les Notebooks et les commandes\n",
    "* Les variables\n",
    "* Les conditions\n",
    "* Les boucles\n",
    "* Les fonctions\n",
    "* utiliser la bibliothèque standard\n",
    "\n",
    "Pour approfondir :\n",
    "* https://docs.python.org/3/tutorial/\n",
    "* https://www.w3schools.com/python/python_intro.asp\n",
    "* https://pythonbasics.org/"
   ]
  },
  {
   "cell_type": "markdown",
   "id": "32a73a41-76fd-4fdd-a88c-38af276cc086",
   "metadata": {
    "tags": []
   },
   "source": [
    "# Notebooks\n",
    "\n",
    "Un notebook est un environnement interactif dans lequel vous pouvez exécuter du code. Ici, nous utiliserons un \"kernel\" Python associé à votre environnement de développement conda.\n",
    "\n",
    "Trois types de cellules sont disponibles dans les carnets :\n",
    "* markdown, comme dans cette cellule\n",
    "* code, pour exécuter des commandes Python\n",
    "* raw, pour écrire du texte brut\n",
    "\n",
    "Si vous êtes familier avec $\\LaTeX$, c'est possible :\n",
    "\n",
    "$$ P(A \\mid B) = \\frac{P(B \\mid A) \\, P(A)}{P(B)} $$\n",
    "\n",
    "\n",
    " Ajouter un [lien](https://sodexam.com/) ou une image :\n",
    " \n",
    "<img src=\"storm.jpg\" width=\"500\" height=\"340\">\n",
    "\n",
    "Les cellules suivantes sont des exemples de cellules de code. Il peut être exécuté à l'aide du bouton Exécuter ou du raccourci MAJ+ENTER. Créez votre notebooke et essayez !"
   ]
  },
  {
   "cell_type": "code",
   "execution_count": 37,
   "id": "57606354-2b36-4ee3-80ad-ed5f8dbcf5d0",
   "metadata": {
    "tags": []
   },
   "outputs": [
    {
     "name": "stdout",
     "output_type": "stream",
     "text": [
      "Hello SODEXAM!\n"
     ]
    }
   ],
   "source": [
    "print(\"Hello SODEXAM!\")"
   ]
  },
  {
   "cell_type": "code",
   "execution_count": 39,
   "id": "b30c8874-0e05-417c-857d-a9c8738070c9",
   "metadata": {
    "tags": []
   },
   "outputs": [
    {
     "data": {
      "text/plain": [
       "4"
      ]
     },
     "execution_count": 39,
     "metadata": {},
     "output_type": "execute_result"
    }
   ],
   "source": [
    "1+3"
   ]
  },
  {
   "cell_type": "markdown",
   "id": "3b3fc33c",
   "metadata": {},
   "source": [
    "## Raccourcis\n",
    "\n",
    "Les raccourcis vous permettent de travailler efficacement et rapidement avec Jupyter. Les plus importants."
   ]
  },
  {
   "cell_type": "markdown",
   "id": "a9432d24",
   "metadata": {},
   "source": [
    "Utiliser\n",
    "\n",
    "> ESC+m \n",
    "\n",
    "pour transformer une cellule de code en cellule de démarquage.\n",
    "Utilisez les touches \n",
    "\n",
    "> MAJ+RETOUR \n",
    "\n",
    "pour exécuter la cellule, \n",
    "après la dernière cellule, une nouvelle cellule est créée par défaut."
   ]
  },
  {
   "cell_type": "markdown",
   "id": "a5d8e2d8",
   "metadata": {},
   "source": [
    "Mode  |  What  | Shortcut\n",
    "------------- | ------------- | -------------\n",
    "Command (Press _Esc_ to enter)  | Run cell | Shift-Enter\n",
    "Command  | Add cell below | B\n",
    "Command | Add cell above | A\n",
    "Command | Delete a cell | d-d\n",
    "Command | Go into edit mode | Enter\n",
    "Edit (Press _Enter_ to enable) | Run cell | Shift-Enter\n",
    "Edit | Indent | Clrl-]\n",
    "Edit | Unindent | Ctrl-[\n",
    "Edit | Comment section | Ctrl-/\n",
    "Edit | Function introspection | Shift-Tab\n",
    "\n"
   ]
  },
  {
   "cell_type": "markdown",
   "id": "d8ab199d-6e99-4ac0-a55a-d42961cd1d6a",
   "metadata": {},
   "source": [
    "# Autres commandes et commandes de système\n",
    "\n",
    "Les commandes magiques commencent par un `%` et permettent d'utiliser les méthodes intégrées du notebook Par exemple, la cellule suivante sera chronométrée "
   ]
  },
  {
   "cell_type": "code",
   "execution_count": 40,
   "id": "161022f6-1bed-47e8-a9f5-041555648af5",
   "metadata": {
    "tags": []
   },
   "outputs": [
    {
     "name": "stdout",
     "output_type": "stream",
     "text": [
      "CPU times: user 14 µs, sys: 3 µs, total: 17 µs\n",
      "Wall time: 19.8 µs\n"
     ]
    },
    {
     "data": {
      "text/plain": [
       "499500"
      ]
     },
     "execution_count": 40,
     "metadata": {},
     "output_type": "execute_result"
    }
   ],
   "source": [
    "%time sum(range(1000)) # Sum the first 1000 numbers"
   ]
  },
  {
   "cell_type": "markdown",
   "id": "7d07abc8-4d9f-4255-873e-027f38b166bc",
   "metadata": {},
   "source": [
    "Avec un `!` initial, vous serez en mesure d'exécuter des commandes système"
   ]
  },
  {
   "cell_type": "code",
   "execution_count": 41,
   "id": "bd4614bd-348a-4eba-8a74-9c6b339ff687",
   "metadata": {
    "tags": []
   },
   "outputs": [
    {
     "name": "stdout",
     "output_type": "stream",
     "text": [
      "total 3588\n",
      "-rw-r--r--. 1 espitaliem-ext espitaliem-ext   36893 Sep 23 00:35 01 - Python_basics.ipynb\n",
      "-rw-r--r--. 1 espitaliem-ext espitaliem-ext   21172 Sep 23 00:07 02 - Numpy.ipynb\n",
      "-rw-r--r--. 1 espitaliem-ext espitaliem-ext 1015133 Sep 23 00:07 03 bis- Pandas_short.ipynb\n",
      "-rw-r--r--. 1 espitaliem-ext espitaliem-ext   76156 Sep 23 00:07 03 - Pandas.ipynb\n",
      "-rw-r--r--. 1 espitaliem-ext espitaliem-ext   92509 Sep 23 00:07 04 - Xarray-fundamentals_revised.ipynb\n",
      "-rw-r--r--. 1 espitaliem-ext espitaliem-ext  286371 Sep 23 00:07 05 - Xarray indexing-and-selecting-data.ipynb\n",
      "-rw-r--r--. 1 espitaliem-ext espitaliem-ext 1114312 Sep 23 00:07 06- Xarray data-visualization_revised.ipynb\n",
      "-rw-r--r--. 1 espitaliem-ext espitaliem-ext  779777 Sep 23 00:07 07 - Xarray computation_revised.ipynb\n",
      "-rw-r--r--. 1 espitaliem-ext espitaliem-ext  215125 Sep 23 00:07 08 - Xarray masking_revised.ipynb\n",
      "-rw-r--r--. 1 espitaliem-ext espitaliem-ext   15017 Sep 23 00:29 storm.jpg\n"
     ]
    }
   ],
   "source": [
    "! ls -l"
   ]
  },
  {
   "cell_type": "markdown",
   "id": "812b51ee-6880-419d-920f-ad0c5023a94a",
   "metadata": {},
   "source": [
    "# Variables Python\n",
    "\n",
    "En Python, vous pouvez facilement définir des variables. Chaque variable a un type qui lui est attribué dynamiquement. Python est un langage à typage dynamique. Pour une liste exhaustive des types de Python [voir ce lien] (https://docs.python.org/3/library/stdtypes.html)"
   ]
  },
  {
   "cell_type": "code",
   "execution_count": 42,
   "id": "6a623a9a-92d3-418a-8bc2-4f5b8ca7ea38",
   "metadata": {
    "tags": []
   },
   "outputs": [
    {
     "name": "stdout",
     "output_type": "stream",
     "text": [
      "100\n",
      "value=100, type=<class 'int'>\n",
      "value=Abidjan, type=<class 'str'>\n"
     ]
    }
   ],
   "source": [
    "value = 100\n",
    "name = \"Abidjan\"\n",
    "\n",
    "print(value)\n",
    "print(f\"value={value}, type={type(value)}\")\n",
    "print(f\"value={name}, type={type(name)}\")"
   ]
  },
  {
   "cell_type": "markdown",
   "id": "71fe7e4b-fca6-4081-bea2-f89a520eb1ae",
   "metadata": {},
   "source": [
    "Python est une programmation orientée objet. Lors de l'affectation d'une variable, un objet en mémoire est créé et la variable pointe vers cet objet. Attention aux références multiples à un même objet."
   ]
  },
  {
   "cell_type": "code",
   "execution_count": null,
   "id": "ea0d9c3f-63a4-41e1-86fe-2613578699b6",
   "metadata": {
    "tags": []
   },
   "outputs": [
    {
     "name": "stdout",
     "output_type": "stream",
     "text": [
      "139765795074688\n",
      "139765795074688\n"
     ]
    }
   ],
   "source": [
    "x = [\"10\", \"11\", \"12\"]  # Define a Python list\n",
    "y = x\n",
    "\n",
    "print(id(x))\n",
    "print(id(y))"
   ]
  },
  {
   "cell_type": "code",
   "execution_count": null,
   "id": "5500cf82-ed37-4dd8-bd5a-a20ede636ef7",
   "metadata": {
    "tags": []
   },
   "outputs": [
    {
     "name": "stdout",
     "output_type": "stream",
     "text": [
      "['10', '11', '12', '13']\n",
      "['10', '11', '12', '13']\n"
     ]
    }
   ],
   "source": [
    "y.append(\"13\")  # Add 13 value to x\n",
    "print(x)\n",
    "print(y)"
   ]
  },
  {
   "cell_type": "markdown",
   "id": "22ed6d16-809e-4c46-a422-51de3913ad00",
   "metadata": {},
   "source": [
    "## Liste\n",
    "\n",
    "Une liste Python est une collection ordonnée, mutable et hétérogène d'objets."
   ]
  },
  {
   "cell_type": "code",
   "execution_count": 10,
   "id": "b6170ea6-e5c4-4e64-a13e-fb20cc317292",
   "metadata": {
    "tags": []
   },
   "outputs": [
    {
     "name": "stdout",
     "output_type": "stream",
     "text": [
      "['10', 10, False]\n",
      "10\n",
      "False\n"
     ]
    }
   ],
   "source": [
    "my_list = [\"10\", 10, False]  # Initialize list with values\n",
    "print(my_list)\n",
    "print(my_list[0])  # Access the 1st element\n",
    "print(my_list[2])  # Access the last element"
   ]
  },
  {
   "cell_type": "code",
   "execution_count": 11,
   "id": "84562a7e-aadf-471f-ab7e-5151afc6b895",
   "metadata": {
    "tags": []
   },
   "outputs": [
    {
     "name": "stdout",
     "output_type": "stream",
     "text": [
      "[10, 11, 12]\n"
     ]
    }
   ],
   "source": [
    "my_list = []  # Initialize with an empty list\n",
    "my_list.append(10)\n",
    "my_list.append(11)\n",
    "my_list.append(12)\n",
    "print(my_list)"
   ]
  },
  {
   "cell_type": "markdown",
   "id": "39a875d9-b5ff-4ed6-be76-0d02e1d6a28a",
   "metadata": {},
   "source": [
    "Vous pouvez obtenir la taille d'un conteneur avec la fonction intégrée `len`"
   ]
  },
  {
   "cell_type": "code",
   "execution_count": 12,
   "id": "fe5890a7-7963-4571-b471-86a7c682dfa3",
   "metadata": {
    "tags": []
   },
   "outputs": [
    {
     "name": "stdout",
     "output_type": "stream",
     "text": [
      "3\n"
     ]
    }
   ],
   "source": [
    "print(len(my_list))  # print the number of elements in the list"
   ]
  },
  {
   "cell_type": "markdown",
   "id": "eb1eb4de-424d-4312-9549-2d49abfa33fc",
   "metadata": {
    "tags": []
   },
   "source": [
    "Le sclicing (\"découpage\") est un moyen efficace d'accéder à une plage d'éléments dans une liste. Une façon pratique de le faire est d'utiliser l'opérateur `:`. En utilisant cet opérateur, vous pouvez définir où commencer, où finir et l'étape du découpage : \n",
    "```code\n",
    "list[start:end:step]\n",
    "```\n",
    "Cette méthode renvoie une nouvelle liste. "
   ]
  },
  {
   "cell_type": "code",
   "execution_count": 53,
   "id": "3cfb5d66-0a40-409d-a929-243db7e0d1de",
   "metadata": {
    "tags": []
   },
   "outputs": [
    {
     "data": {
      "text/plain": [
       "[100, 200, 300, 400, 500, 600, 700, 800, 900, 1000]"
      ]
     },
     "execution_count": 53,
     "metadata": {},
     "output_type": "execute_result"
    }
   ],
   "source": [
    "my_list = list(range(100, 1100, 100))\n",
    "my_list\n"
   ]
  },
  {
   "cell_type": "markdown",
   "id": "79d52ea9-73cf-4ad3-a880-de49b80dd939",
   "metadata": {},
   "source": [
    "Voici un exemple permettant d'obtenir tous les éléments d'une liste, à partir du deuxième élément"
   ]
  },
  {
   "cell_type": "code",
   "execution_count": 56,
   "id": "2a80cc95-b08c-486d-b8bc-8e786b41f6d0",
   "metadata": {
    "tags": []
   },
   "outputs": [
    {
     "data": {
      "text/plain": [
       "[200, 300, 400, 500, 600, 700, 800, 900, 1000]"
      ]
     },
     "execution_count": 56,
     "metadata": {},
     "output_type": "execute_result"
    }
   ],
   "source": [
    "my_list[1:]"
   ]
  },
  {
   "cell_type": "markdown",
   "id": "01ab532a-bff1-4b12-86cb-2ec5fe41a431",
   "metadata": {},
   "source": [
    "Voici un exemple de la façon d'obtenir tous les éléments de la liste, en commençant par l'élément n-2"
   ]
  },
  {
   "cell_type": "code",
   "execution_count": 16,
   "id": "a6d0d6ab-9a6b-4464-b9d8-067e56dcd135",
   "metadata": {
    "tags": []
   },
   "outputs": [
    {
     "data": {
      "text/plain": [
       "[100, 200, 300, 400, 500, 600, 700, 800]"
      ]
     },
     "execution_count": 16,
     "metadata": {},
     "output_type": "execute_result"
    }
   ],
   "source": [
    "my_list[:-2]"
   ]
  },
  {
   "cell_type": "markdown",
   "id": "d1058419-3563-4169-9404-24e059034f1c",
   "metadata": {},
   "source": [
    "Voici un exemple de la façon d'obtenir tous les éléments de la liste, en commençant par le deuxième élément, en terminant par l'élément n-1 et tous les deux éléments"
   ]
  },
  {
   "cell_type": "code",
   "execution_count": 57,
   "id": "e0f124cf-78a1-40af-9525-6cb4513bad8d",
   "metadata": {
    "tags": []
   },
   "outputs": [
    {
     "data": {
      "text/plain": [
       "[200, 400, 600, 800]"
      ]
     },
     "execution_count": 57,
     "metadata": {},
     "output_type": "execute_result"
    }
   ],
   "source": [
    "my_list[1:-1:2]"
   ]
  },
  {
   "cell_type": "markdown",
   "id": "40f0fede-b94f-4ca3-8899-71f2735c0b37",
   "metadata": {},
   "source": [
    "# Dictionnaire\n",
    "\n",
    "Les dictionnaires Python sont des paires clé/valeur"
   ]
  },
  {
   "cell_type": "code",
   "execution_count": 21,
   "id": "e6ebbda3-cc97-4c02-9ab9-e9a1bd070c80",
   "metadata": {
    "tags": []
   },
   "outputs": [
    {
     "name": "stdout",
     "output_type": "stream",
     "text": [
      "{'Banana': 'ok', 'Apple': 1, 'Orange': True}\n",
      "ok\n",
      "{'Banana': 'ok', 'Apple': 1, 'Orange': True, 'MyFruit': False}\n"
     ]
    }
   ],
   "source": [
    "my_dict = {\n",
    "    \"Banana\": \"ok\",\n",
    "    \"Apple\": 1,\n",
    "    \"Orange\": True\n",
    "}\n",
    "print(my_dict)\n",
    "print(my_dict[\"Banana\"])\n",
    "\n",
    "my_dict[\"MyFruit\"] = False\n",
    "print(my_dict)"
   ]
  },
  {
   "cell_type": "markdown",
   "id": "7a8bfdba-a28f-48d8-8ff3-bec4b9eda519",
   "metadata": {},
   "source": [
    "# Les conditions Python\n",
    "Les conditions sont écrites avec le mot-clé `if`. Les conditions logiques des mathématiques sont supportées (==, !=, <, <=, >, >=)."
   ]
  },
  {
   "cell_type": "code",
   "execution_count": 58,
   "id": "74eeac28-6bc4-4e72-93d7-bca83d53922f",
   "metadata": {
    "tags": []
   },
   "outputs": [
    {
     "name": "stdout",
     "output_type": "stream",
     "text": [
      "a is greater than b.\n"
     ]
    }
   ],
   "source": [
    "a = 101\n",
    "b = 100\n",
    "if a > b:\n",
    "    print(\"a is greater than b.\")"
   ]
  },
  {
   "cell_type": "code",
   "execution_count": 59,
   "id": "7a900475-a60d-42d6-b1b8-a07e26353681",
   "metadata": {
    "tags": []
   },
   "outputs": [
    {
     "name": "stdout",
     "output_type": "stream",
     "text": [
      "a is greater than b.\n"
     ]
    }
   ],
   "source": [
    "if b > a:\n",
    "    print(\"b is greater than a.\")\n",
    "elif a >= b:\n",
    "    print(\"a is greater than b.\")"
   ]
  },
  {
   "cell_type": "code",
   "execution_count": 60,
   "id": "a264dfbc-3fc5-4c09-a018-4eade754063e",
   "metadata": {
    "tags": []
   },
   "outputs": [
    {
     "name": "stdout",
     "output_type": "stream",
     "text": [
      "the other case\n"
     ]
    }
   ],
   "source": [
    "if b > a:\n",
    "    print(\"b is greater than a.\")\n",
    "else:\n",
    "    print(\"the other case\")"
   ]
  },
  {
   "cell_type": "markdown",
   "id": "fc87ddab-b5fc-4e71-83d8-6ea4ae94eb9e",
   "metadata": {},
   "source": [
    "# Boucles\n",
    "\n",
    "## Boucle For\n",
    "Une boucle `for` est utilisée pour itérer sur une séquence."
   ]
  },
  {
   "cell_type": "markdown",
   "id": "2929ed06-f7c8-4093-a455-66a7f5eb7c8d",
   "metadata": {},
   "source": [
    "Les mots-clés utiles sont les suivants :\n",
    "* `elif`, si la condition précédente n'est pas vraie alors utilisez cette condition\n",
    "* `else`, si l'une des conditions n'est pas justifiée"
   ]
  },
  {
   "cell_type": "code",
   "execution_count": 61,
   "id": "a55840fe-a3b7-4351-84ee-31487f30671b",
   "metadata": {
    "tags": []
   },
   "outputs": [
    {
     "name": "stdout",
     "output_type": "stream",
     "text": [
      "1\n",
      "2\n",
      "3\n"
     ]
    }
   ],
   "source": [
    "for i in [1, 2, 3]:  # Loop over the elements of a list.\n",
    "    print(i)"
   ]
  },
  {
   "cell_type": "code",
   "execution_count": 62,
   "id": "bb6d9127-806a-4d98-ac0e-53d1c3adc701",
   "metadata": {
    "tags": []
   },
   "outputs": [
    {
     "name": "stdout",
     "output_type": "stream",
     "text": [
      "0\n",
      "2\n",
      "4\n",
      "6\n",
      "8\n"
     ]
    }
   ],
   "source": [
    "for i in range(0, 10, 2):  # Loop over the elements generated with the built-in `range` function.\n",
    "    print(i)"
   ]
  },
  {
   "cell_type": "markdown",
   "id": "2b1dcea5-2663-4d70-8635-02789eb585b0",
   "metadata": {},
   "source": [
    "## Compréhension de liste\n",
    "La compréhension de liste offre un moyen concis d'écrire des boucles for.\n",
    "\n",
    "Par exemple, les exemples suivants montrent que vous pouvez écrire une boucle for en une seule ligne et appliquer une condition pour chaque élément\n"
   ]
  },
  {
   "cell_type": "code",
   "execution_count": 63,
   "id": "fde0d2ba-859d-439b-ab61-4bf32ba1b2d2",
   "metadata": {
    "tags": []
   },
   "outputs": [
    {
     "data": {
      "text/plain": [
       "[4, 5, 6, 7, 8, 9]"
      ]
     },
     "execution_count": 63,
     "metadata": {},
     "output_type": "execute_result"
    }
   ],
   "source": [
    "my_list = [a for a in range(0, 10) if a > 3]\n",
    "my_list"
   ]
  },
  {
   "cell_type": "code",
   "execution_count": 64,
   "id": "c5144063-6452-423e-bff4-2db5baab62cd",
   "metadata": {
    "tags": []
   },
   "outputs": [
    {
     "data": {
      "text/plain": [
       "[{2, 'Glass'}]"
      ]
     },
     "execution_count": 64,
     "metadata": {},
     "output_type": "execute_result"
    }
   ],
   "source": [
    "my_dict = {\"Bottle\": 1, \"Glass\": 2, \"Water\": 3}\n",
    "my_list_of_dict = [{k, v} for k, v in my_dict.items() if v % 2 == 0]\n",
    "my_list_of_dict"
   ]
  },
  {
   "cell_type": "markdown",
   "id": "fd321a72-4073-49f7-abe5-78c67a35a492",
   "metadata": {},
   "source": [
    "## Boucle While\n",
    "Une boucle `while` peut exécuter un ensemble d'opérations tant qu'une condition est vraie."
   ]
  },
  {
   "cell_type": "code",
   "execution_count": 65,
   "id": "c98547f1-22ee-4d8a-a31d-e8fbf28073d7",
   "metadata": {
    "tags": []
   },
   "outputs": [
    {
     "name": "stdout",
     "output_type": "stream",
     "text": [
      "my operation 0\n",
      "my operation 1\n",
      "my operation 2\n",
      "my operation 3\n",
      "my operation 4\n",
      "my operation 5\n",
      "my operation 6\n",
      "my operation 7\n",
      "my operation 8\n",
      "my operation 9\n"
     ]
    }
   ],
   "source": [
    "count = 0\n",
    "while(count < 10):\n",
    "    print(f\"my operation {count}\")\n",
    "    count = count + 1"
   ]
  },
  {
   "cell_type": "markdown",
   "id": "3a37982f-93fd-486b-99ff-c5ab6b9ee802",
   "metadata": {},
   "source": [
    "Les mots-clés `break` et `pass` peuvent être utilisés. Ils permettent respectivement de sortir de la boucle et de ne rien faire."
   ]
  },
  {
   "cell_type": "code",
   "execution_count": 66,
   "id": "dbfc87ed-ea19-471f-8580-6a4fcb3adb98",
   "metadata": {
    "tags": []
   },
   "outputs": [
    {
     "name": "stdout",
     "output_type": "stream",
     "text": [
      "my operation 0\n",
      "my operation 1\n",
      "my operation 2\n",
      "my operation 3\n",
      "my operation 4\n",
      "my operation 5\n",
      "my operation 6\n",
      "my operation 7\n",
      "my operation 8\n",
      "my operation 9\n"
     ]
    }
   ],
   "source": [
    "count = 0\n",
    "while(True):\n",
    "    print(f\"my operation {count}\")\n",
    "    count += 1\n",
    "    if count > 9:\n",
    "        break\n",
    "    else:\n",
    "        pass"
   ]
  },
  {
   "cell_type": "markdown",
   "id": "c7d51218-96aa-45ea-9bce-eef97f4662fb",
   "metadata": {},
   "source": [
    "# Fonctions\n",
    "Une fonction Python est un bloc de code qui ne s'exécute que lorsqu'il est appelé. Elle prend des paramètres en entrée et peut retourner des variables. Elles sont définies à l'aide du mot-clé `def`."
   ]
  },
  {
   "cell_type": "code",
   "execution_count": 67,
   "id": "181f9899-3247-4171-aead-18d3d5d7d384",
   "metadata": {
    "tags": []
   },
   "outputs": [
    {
     "data": {
      "text/plain": [
       "3"
      ]
     },
     "execution_count": 67,
     "metadata": {},
     "output_type": "execute_result"
    }
   ],
   "source": [
    "def addition(a: int, b: int) -> int:  # Returns the resul of the addition of two integers\n",
    "    return a+b\n",
    "\n",
    "addition(1, 2)"
   ]
  },
  {
   "cell_type": "code",
   "execution_count": 68,
   "id": "986116e2-4878-4d01-aa09-009177be1fa8",
   "metadata": {
    "tags": []
   },
   "outputs": [
    {
     "name": "stdout",
     "output_type": "stream",
     "text": [
      "The name is toto!\n"
     ]
    }
   ],
   "source": [
    "def print_name(a: str) -> None:  # Example of a function that returns nothing\n",
    "    print(f\"The name is {a}!\")\n",
    "\n",
    "print_name(\"toto\")"
   ]
  },
  {
   "cell_type": "markdown",
   "id": "47f66d98-6653-49ea-acec-b3170ad284f2",
   "metadata": {},
   "source": [
    "Les variables définies dans le noyau des fonctions ne sont disponibles que dans la fonction, pas en dehors ! "
   ]
  },
  {
   "cell_type": "code",
   "execution_count": 69,
   "id": "0c52b2fe-2e76-4c5e-8422-9c03378b7ebf",
   "metadata": {
    "tags": []
   },
   "outputs": [
    {
     "name": "stdout",
     "output_type": "stream",
     "text": [
      "3\n"
     ]
    }
   ],
   "source": [
    "def addition(a: int, b: int) -> int:  # Returns the resul of the addition of two integers\n",
    "    result = a + b\n",
    "    return result\n",
    "\n",
    "result = addition(1, 2)\n",
    "print(result)  # result is not in the define, returns an exception"
   ]
  },
  {
   "cell_type": "markdown",
   "id": "b69f53c1-ee23-4ba8-92a4-312d6ce00148",
   "metadata": {},
   "source": [
    "# Bibliothèque standard de Python\n",
    "\n",
    "Un module peut être importé avec l'instruction `import`."
   ]
  },
  {
   "cell_type": "code",
   "execution_count": 70,
   "id": "7f977962-27b9-49a4-a725-57c2851bdd8a",
   "metadata": {
    "tags": []
   },
   "outputs": [
    {
     "data": {
      "text/plain": [
       "datetime.datetime(2023, 1, 1, 1, 0)"
      ]
     },
     "execution_count": 70,
     "metadata": {},
     "output_type": "execute_result"
    }
   ],
   "source": [
    "import datetime\n",
    "time_1 = datetime.datetime(2023, 1, 1)\n",
    "time_2 = time_1 + datetime.timedelta(seconds=3600)\n",
    "time_2"
   ]
  },
  {
   "cell_type": "markdown",
   "id": "c0acdfa5-1ee6-4320-b94d-1a487d09a801",
   "metadata": {},
   "source": [
    "Les functions des modules peuvent être importées via la commande `from` "
   ]
  },
  {
   "cell_type": "code",
   "execution_count": 71,
   "id": "5fc988fa-1a19-48b6-a173-7b943e87b7ed",
   "metadata": {
    "tags": []
   },
   "outputs": [
    {
     "name": "stdout",
     "output_type": "stream",
     "text": [
      "/boot\n",
      "/dev\n",
      "/home\n",
      "/proc\n",
      "/run\n",
      "/sys\n",
      "/tmp\n",
      "/var\n",
      "/etc\n",
      "/root\n",
      "/usr\n",
      "/bin\n",
      "/sbin\n",
      "/lib\n",
      "/lib64\n",
      "/media\n",
      "/mnt\n",
      "/opt\n",
      "/srv\n",
      "/cipslab_shared\n",
      "/archive_cips\n",
      "/jupyterhub_cookie_secret\n",
      "/jupyterhub.sqlite\n",
      "/scratch_cipslab\n",
      "/jupyterhub-proxy.pid\n"
     ]
    }
   ],
   "source": [
    "from pathlib import Path\n",
    "\n",
    "my_path = Path(\"/\")\n",
    "for file in my_path.glob(\"*\"):  # Loop on every path find in /\n",
    "    print(file)"
   ]
  },
  {
   "cell_type": "code",
   "execution_count": null,
   "id": "6a709121",
   "metadata": {},
   "outputs": [],
   "source": []
  },
  {
   "cell_type": "markdown",
   "id": "fc819d28",
   "metadata": {},
   "source": [
    "<button data-toggle=\"collapse\" data-target=\"#sol8\" class='btn btn-primary'>Solution</button>\n",
    "<div id=\"sol8\" class=\"collapse\">\n",
    "    \n",
    " ```python\n",
    " filename = \"Dataset/SYNOP.20221213/SYNOP.20221213.23H.csv\"\n",
    "! head $filename\n",
    "```\n",
    "\n",
    "</div>"
   ]
  },
  {
   "cell_type": "code",
   "execution_count": null,
   "id": "42a16ea0",
   "metadata": {},
   "outputs": [],
   "source": []
  },
  {
   "cell_type": "markdown",
   "id": "c2c2dff2",
   "metadata": {},
   "source": [
    "<button data-toggle=\"collapse\" data-target=\"#sol8\" class='btn btn-primary'>Solution</button>\n",
    "<div id=\"sol8\" class=\"collapse\">\n",
    "\n",
    "```python\n",
    "n = 10\n",
    "# Open the file an read the files line by line\n",
    "lines = []\n",
    "with open(filename, \"r\") as f:\n",
    "    for _ in range(n):\n",
    "        lines.append(f.readline())\n",
    "lines\n",
    "```\n",
    "\n",
    "</div>"
   ]
  },
  {
   "cell_type": "code",
   "execution_count": null,
   "id": "19f036f0",
   "metadata": {},
   "outputs": [],
   "source": []
  },
  {
   "cell_type": "markdown",
   "id": "29ed0c39",
   "metadata": {},
   "source": [
    "<button data-toggle=\"collapse\" data-target=\"#sol8\" class='btn btn-primary'>Solution</button>\n",
    "<div id=\"sol8\" class=\"collapse\">\n",
    "    \n",
    " ```python\n",
    "# Exlude the headers\n",
    "lines = lines[2:]\n",
    "lines\n",
    "```\n",
    "\n",
    "</div>"
   ]
  },
  {
   "cell_type": "code",
   "execution_count": null,
   "id": "8c134461",
   "metadata": {},
   "outputs": [],
   "source": []
  },
  {
   "cell_type": "markdown",
   "id": "77307c53",
   "metadata": {},
   "source": [
    "<button data-toggle=\"collapse\" data-target=\"#sol8\" class='btn btn-primary'>Solution</button>\n",
    "<div id=\"sol8\" class=\"collapse\">\n",
    "    \n",
    " ```python\n",
    "data = []  # Create an empty list\n",
    "for line in lines:\n",
    "    values = line.split(\",\")  # Split the values\n",
    "    data.append({\"lon\": values[2], \"lat\": values[1], \"time\": values[3]})  # Add a dictionary into the list\n",
    "data\n",
    "```\n",
    "\n",
    "</div>"
   ]
  },
  {
   "cell_type": "markdown",
   "id": "6f08d080",
   "metadata": {},
   "source": []
  }
 ],
 "metadata": {
  "kernelspec": {
   "display_name": "Python 3 (ipykernel)",
   "language": "python",
   "name": "python3"
  },
  "language_info": {
   "codemirror_mode": {
    "name": "ipython",
    "version": 3
   },
   "file_extension": ".py",
   "mimetype": "text/x-python",
   "name": "python",
   "nbconvert_exporter": "python",
   "pygments_lexer": "ipython3",
   "version": "3.12.4"
  }
 },
 "nbformat": 4,
 "nbformat_minor": 5
}
